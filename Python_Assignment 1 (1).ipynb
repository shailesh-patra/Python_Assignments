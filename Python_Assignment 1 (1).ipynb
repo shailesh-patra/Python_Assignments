{
 "cells": [
  {
   "cell_type": "markdown",
   "id": "44fee9a9",
   "metadata": {},
   "source": [
    "# 1. In the below elements which of them are values or an expression? eg:- values can be integer or string and expressions will be mathematical operators.\n",
    "* \n",
    "'hello'\n",
    "-87.8\n",
    "(-)\n",
    "(/)\n",
    "(+)\n",
    "6\n",
    "\n",
    "\n",
    "\n"
   ]
  },
  {
   "cell_type": "code",
   "execution_count": null,
   "id": "c7117e68",
   "metadata": {},
   "outputs": [],
   "source": [
    "\"hello\" ---> VALUE\n",
    "87.8 ----> VALUE\n",
    "(-)-----> EXPRESSION\n",
    "(+)-----> EXPRESSION\n",
    "(/)-----> EXPRESSION\n",
    "6-------> VALUE"
   ]
  },
  {
   "cell_type": "markdown",
   "id": "0ab60edc",
   "metadata": {},
   "source": [
    "# 2. What is the difference between string and variable?"
   ]
  },
  {
   "cell_type": "code",
   "execution_count": null,
   "id": "5b7f7f2f",
   "metadata": {},
   "outputs": [],
   "source": [
    "Variable is an empty entity that we create to store data in our program.\n",
    "Strings are the entity that we store in a variable. These are some alphabetical or numerical characters enclosed within quotes(\"\",'').\n",
    "\n",
    "for example-\n",
    "var= \"This is a string\"\n",
    "\n",
    "here \"This is a string\" is a STRING\n",
    "and var is the VARIABLE in which we stored the string so that it can be called upon as per the requirement."
   ]
  },
  {
   "cell_type": "markdown",
   "id": "50fc975a",
   "metadata": {},
   "source": [
    "# 3. Describe three different data types."
   ]
  },
  {
   "cell_type": "code",
   "execution_count": null,
   "id": "2f7fe09c",
   "metadata": {},
   "outputs": [],
   "source": [
    "Three different types of data type:-\n",
    "        i.) INTEGER- These are the numbers without any decimals (both positive and negative numbers)\n",
    "        ii.) FLOATING POINT NUMBER- These are the decimal numbers may it be negative or positive. It is characterized by a decimal point.\n",
    "        iii.) STIRNGS- These are the alphabetical or numerical characters which are characterized by being enclosed within quotes ( both single quotes and double quotes).\n",
    "  "
   ]
  },
  {
   "cell_type": "markdown",
   "id": "0cd5a326",
   "metadata": {},
   "source": [
    "# 4. What is an expression made up of? What do all expressions do?\n"
   ]
  },
  {
   "cell_type": "code",
   "execution_count": null,
   "id": "3f065fe9",
   "metadata": {},
   "outputs": [],
   "source": [
    "An expression is made up of operators(+,-,/,*) and values. \n",
    "These expressions perform the operations specified by the operators and values and give us a final result.\n"
   ]
  },
  {
   "cell_type": "markdown",
   "id": "6bd4857f",
   "metadata": {},
   "source": [
    "\n",
    "# 5.This assignment statements, like spam = 10. What is the difference between an expression and a statement?\n"
   ]
  },
  {
   "cell_type": "code",
   "execution_count": null,
   "id": "502a554a",
   "metadata": {},
   "outputs": [],
   "source": [
    "Statements execute an action or command whereas Expressions evaluates the specified values and operators to have a final result.\n",
    "The statements may or may not give a result but Expressions always produces a value.\n",
    "\n",
    "for ex-\n",
    "        spam = 10\n",
    "        print (spam)   #this is an assignment statement which gives us the result as it is.\n",
    "    \n",
    "        sam= 10\n",
    "        new_spam= spam + 10\n",
    "        print (new_spam)        #this is an expression as the output is an evaluation of the operators and the values."
   ]
  },
  {
   "cell_type": "markdown",
   "id": "a4bbec5a",
   "metadata": {},
   "source": [
    "# 6. After running the following code, what does the variable bacon contain?\n",
    "bacon = 22\n",
    "bacon + 1\n"
   ]
  },
  {
   "cell_type": "code",
   "execution_count": 1,
   "id": "e7d3a3ab",
   "metadata": {},
   "outputs": [
    {
     "data": {
      "text/plain": [
       "22"
      ]
     },
     "execution_count": 1,
     "metadata": {},
     "output_type": "execute_result"
    }
   ],
   "source": [
    "bacon = 22\n",
    "bacon + 1\n",
    "bacon"
   ]
  },
  {
   "cell_type": "code",
   "execution_count": null,
   "id": "0c754b51",
   "metadata": {},
   "outputs": [],
   "source": [
    "the variable bacon contains the same value 22 , because the expression bacon+1 isn't assigned to bacon again which would have given the variable bacon a avlue of 23."
   ]
  },
  {
   "cell_type": "markdown",
   "id": "0f964b79",
   "metadata": {},
   "source": [
    "# 7. What should the values of the following two terms be?\n",
    "'spam' + 'spamspam'\n",
    "'spam' * 3\n"
   ]
  },
  {
   "cell_type": "code",
   "execution_count": 2,
   "id": "c786f720",
   "metadata": {},
   "outputs": [
    {
     "data": {
      "text/plain": [
       "'spamspamspam'"
      ]
     },
     "execution_count": 2,
     "metadata": {},
     "output_type": "execute_result"
    }
   ],
   "source": [
    "'spam' + 'spamspam'\n",
    "\n"
   ]
  },
  {
   "cell_type": "code",
   "execution_count": 3,
   "id": "a6a93d20",
   "metadata": {},
   "outputs": [
    {
     "data": {
      "text/plain": [
       "'spamspamspam'"
      ]
     },
     "execution_count": 3,
     "metadata": {},
     "output_type": "execute_result"
    }
   ],
   "source": [
    "'spam' * 3"
   ]
  },
  {
   "cell_type": "markdown",
   "id": "c7637cba",
   "metadata": {},
   "source": [
    "# 8. Why is eggs a valid variable name while 100 is invalid?"
   ]
  },
  {
   "cell_type": "code",
   "execution_count": null,
   "id": "c2c479e1",
   "metadata": {},
   "outputs": [],
   "source": [
    "eggs is a valid variable name as it starts with a letter\n",
    "100 is invalid because the very first character of a varaible must be an underscore(_) or a letter."
   ]
  },
  {
   "cell_type": "markdown",
   "id": "463d068f",
   "metadata": {},
   "source": [
    "# 9. What three functions can be used to get the integer, floating-point number, or string version of a value?\n"
   ]
  },
  {
   "cell_type": "code",
   "execution_count": null,
   "id": "896c3296",
   "metadata": {},
   "outputs": [],
   "source": [
    "int(), float(), str() can be used to get the integer, floating-point number, or string version of a value respectively."
   ]
  },
  {
   "cell_type": "markdown",
   "id": "4d7a0b96",
   "metadata": {},
   "source": [
    "# 10. Why does this expression cause an error? How can you fix it?\n",
    "'I have eaten ' + 99 + ' burritos.'\n"
   ]
  },
  {
   "cell_type": "code",
   "execution_count": null,
   "id": "d9b360f8",
   "metadata": {},
   "outputs": [],
   "source": [
    "'I have eaten ' + 99 + ' burritos.'\n",
    "this gives an error because among the strings there is an integer data type present and only strings can be concatenated together.\n",
    "Therefore the following modifications can be done to fix it :-"
   ]
  },
  {
   "cell_type": "code",
   "execution_count": 6,
   "id": "7aa18faf",
   "metadata": {},
   "outputs": [
    {
     "data": {
      "text/plain": [
       "'I have eaten 99 burritos.'"
      ]
     },
     "execution_count": 6,
     "metadata": {},
     "output_type": "execute_result"
    }
   ],
   "source": [
    "'I have eaten ' + '99' + ' burritos.'\n"
   ]
  },
  {
   "cell_type": "code",
   "execution_count": 7,
   "id": "7b1f884c",
   "metadata": {},
   "outputs": [
    {
     "data": {
      "text/plain": [
       "'I have eaten 99 burritos.'"
      ]
     },
     "execution_count": 7,
     "metadata": {},
     "output_type": "execute_result"
    }
   ],
   "source": [
    "'I have eaten ' + str(99) + ' burritos.'"
   ]
  }
 ],
 "metadata": {
  "kernelspec": {
   "display_name": "Python 3 (ipykernel)",
   "language": "python",
   "name": "python3"
  },
  "language_info": {
   "codemirror_mode": {
    "name": "ipython",
    "version": 3
   },
   "file_extension": ".py",
   "mimetype": "text/x-python",
   "name": "python",
   "nbconvert_exporter": "python",
   "pygments_lexer": "ipython3",
   "version": "3.9.12"
  }
 },
 "nbformat": 4,
 "nbformat_minor": 5
}
