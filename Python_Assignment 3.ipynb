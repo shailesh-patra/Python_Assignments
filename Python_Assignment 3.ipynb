{
 "cells": [
  {
   "cell_type": "markdown",
   "id": "68cdde22",
   "metadata": {},
   "source": [
    "# 1. Why are functions advantageous to have in your programs?"
   ]
  },
  {
   "cell_type": "code",
   "execution_count": null,
   "id": "6857bf26",
   "metadata": {},
   "outputs": [],
   "source": [
    "Functions are a block of codes which altogether perform a sepcific task or upon execution give a specified output.\n",
    "It reduces the length of the codes in a program by increasing the reusability of the code.\n",
    "We don\"t need to copy and paste some lines of code for reusing them and indirectly increasing the length of the code.\n",
    "Rather we can define those line of codes which needs to repeated into a function and whenever needed, they can be called upon with valid arguments (if required)."
   ]
  },
  {
   "cell_type": "markdown",
   "id": "df5fc7cd",
   "metadata": {},
   "source": [
    "# 2. When does the code in a function run: when it's specified or when it's called?"
   ]
  },
  {
   "cell_type": "code",
   "execution_count": null,
   "id": "bccbebdc",
   "metadata": {},
   "outputs": [],
   "source": [
    "The code in a function runs when it's called and not when its defined."
   ]
  },
  {
   "cell_type": "markdown",
   "id": "ab6f4dcd",
   "metadata": {},
   "source": [
    "# 3. What statement creates a function?"
   ]
  },
  {
   "cell_type": "code",
   "execution_count": null,
   "id": "ada4a12c",
   "metadata": {},
   "outputs": [],
   "source": [
    "The def statement creates a function.\n",
    "for ex:-\n",
    "    def Abcd:\n",
    "        print(\"this is how we create a function and can be called upon for execution\")"
   ]
  },
  {
   "cell_type": "markdown",
   "id": "a502c70b",
   "metadata": {},
   "source": [
    "# 4. What is the difference between a function and a function call?"
   ]
  },
  {
   "cell_type": "code",
   "execution_count": null,
   "id": "556d3415",
   "metadata": {},
   "outputs": [],
   "source": [
    "Function are a cluster of codes within a def statement which perform a task either by taking some argument along with the def or without argument.\n",
    "\n",
    "\n",
    "Function Call is the execution of the already defined function by the def statement and passing up the argument or not passing any arguments upon which the funtion returns some value."
   ]
  },
  {
   "cell_type": "markdown",
   "id": "c805dba9",
   "metadata": {},
   "source": [
    "# 5. How many global scopes are there in a Python program? How many local scopes?"
   ]
  },
  {
   "cell_type": "code",
   "execution_count": 2,
   "id": "5ae9e772",
   "metadata": {},
   "outputs": [],
   "source": [
    "There is ONE global scobe in a python program.\n",
    "There is ONE local scope in python program."
   ]
  },
  {
   "cell_type": "markdown",
   "id": "c3c2e08c",
   "metadata": {},
   "source": [
    "# 6. What happens to variables in a local scope when the function call returns?"
   ]
  },
  {
   "cell_type": "code",
   "execution_count": null,
   "id": "c7035984",
   "metadata": {},
   "outputs": [],
   "source": [
    "When a function call returns the variable declared inside the function is erased and forgotten. If we call for the same variable outside the function it will show an error if it isnt defined again outside the function.\n",
    "for ex:-\n",
    "    def abc:\n",
    "        a=1\n",
    "        print(a)\n",
    "    abc()\n",
    "    print(a)\n",
    "    \n",
    "if i execute the above program it will throw an error as a is inside the function and local scope is erased.\n"
   ]
  },
  {
   "cell_type": "markdown",
   "id": "a8c9c25b",
   "metadata": {},
   "source": [
    "# 7. What is the concept of a return value? Is it possible to have a return value in an expression?"
   ]
  },
  {
   "cell_type": "code",
   "execution_count": null,
   "id": "819cd8ab",
   "metadata": {},
   "outputs": [],
   "source": [
    "It is the value that a specific function gives when called upon or upon execution.\n",
    "Yes it is possible to have a return value in an expression."
   ]
  },
  {
   "cell_type": "markdown",
   "id": "870ee1ae",
   "metadata": {},
   "source": [
    "# 8. If a function does not have a return statement, what is the return value of a call to that function?"
   ]
  },
  {
   "cell_type": "code",
   "execution_count": 11,
   "id": "398836c3",
   "metadata": {},
   "outputs": [],
   "source": [
    "# If in a function there is no return statement then there will not be any return value upon being called.\n",
    "#for ex:-\n",
    "def func():\n",
    "    a = 2\n",
    "    b = 10\n",
    "    b**a\n",
    "func()               #as we can see clearly upon execution there is no return value."
   ]
  },
  {
   "cell_type": "markdown",
   "id": "d02f8813",
   "metadata": {},
   "source": [
    "# 9. How do you make a function variable refer to the global variable?"
   ]
  },
  {
   "cell_type": "code",
   "execution_count": 14,
   "id": "cc5ef83a",
   "metadata": {},
   "outputs": [
    {
     "name": "stdout",
     "output_type": "stream",
     "text": [
      "1\n"
     ]
    }
   ],
   "source": [
    "# By using the keyword global we can make a function variabe refer to a global varibale.\n",
    "# for example:-\n",
    "\n",
    "V_out = 10\n",
    "\n",
    "def func1():\n",
    "    global V_out\n",
    "    V_out = 1\n",
    "\n",
    "func1()\n",
    "print(V_out)\n",
    "\n",
    "#as we can see after using the GLOBAL keyword once the function is being called upon and a reassignment operation is done, it successfully reassigns the global variable.\n"
   ]
  },
  {
   "cell_type": "markdown",
   "id": "75081a77",
   "metadata": {},
   "source": [
    "# 10. What is the data type of None?"
   ]
  },
  {
   "cell_type": "code",
   "execution_count": null,
   "id": "227224bf",
   "metadata": {},
   "outputs": [],
   "source": [
    "The data type of None is NoneType."
   ]
  },
  {
   "cell_type": "markdown",
   "id": "d448886c",
   "metadata": {},
   "source": [
    "# 11. What does the sentence import areallyourpetsnamederic do?"
   ]
  },
  {
   "cell_type": "code",
   "execution_count": null,
   "id": "eec4611e",
   "metadata": {},
   "outputs": [],
   "source": [
    "# the sentence \n",
    "import areallyourpetsnamederic # imports the module named as such"
   ]
  },
  {
   "cell_type": "markdown",
   "id": "b9dbc9b9",
   "metadata": {},
   "source": [
    "# 12. If you had a bacon() feature in a spam module, what would you call it after importing spam?"
   ]
  },
  {
   "cell_type": "code",
   "execution_count": null,
   "id": "e918f770",
   "metadata": {},
   "outputs": [],
   "source": [
    "# The function can be called upon as follows :-\n",
    "spam.bacon()"
   ]
  },
  {
   "cell_type": "markdown",
   "id": "c0f62a16",
   "metadata": {},
   "source": [
    "# 13. What can you do to save a programme from crashing if it encounters an error?"
   ]
  },
  {
   "cell_type": "code",
   "execution_count": null,
   "id": "f646d643",
   "metadata": {},
   "outputs": [],
   "source": [
    "BY using exception handling , we can put the program that is crashing under a try clause and put the solution fo the thing going wrong into the except clause."
   ]
  },
  {
   "cell_type": "markdown",
   "id": "b65ade7b",
   "metadata": {},
   "source": [
    "# 14. What is the purpose of the try clause? What is the purpose of the except clause?"
   ]
  },
  {
   "cell_type": "code",
   "execution_count": null,
   "id": "ded5cc36",
   "metadata": {},
   "outputs": [],
   "source": [
    "try clause is used to incorporate the codes that are crashing or failing. \n",
    "except clause is used to incoroporate the possible solution to the problem causing the code to fail in the except block."
   ]
  }
 ],
 "metadata": {
  "kernelspec": {
   "display_name": "Python 3 (ipykernel)",
   "language": "python",
   "name": "python3"
  },
  "language_info": {
   "codemirror_mode": {
    "name": "ipython",
    "version": 3
   },
   "file_extension": ".py",
   "mimetype": "text/x-python",
   "name": "python",
   "nbconvert_exporter": "python",
   "pygments_lexer": "ipython3",
   "version": "3.9.12"
  }
 },
 "nbformat": 4,
 "nbformat_minor": 5
}
