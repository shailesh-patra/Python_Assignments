{
 "cells": [
  {
   "cell_type": "markdown",
   "id": "1ee16e41",
   "metadata": {},
   "source": [
    "# 1.What are the two values of the Boolean data type? How do you write them?"
   ]
  },
  {
   "cell_type": "code",
   "execution_count": null,
   "id": "06d32531",
   "metadata": {},
   "outputs": [],
   "source": [
    "The two values of the Boolean data type are:-\n",
    "    True\n",
    "    False\n",
    "\n",
    "Boolean values in a program are used to decide whether to execute a piece of code or not.\n",
    "\n",
    "To write the Boolean values:-\n",
    "    1 is equivalent to True\n",
    "    0 is equivalent to False"
   ]
  },
  {
   "cell_type": "markdown",
   "id": "da4d9ecb",
   "metadata": {},
   "source": [
    "# 2. What are the three different types of Boolean operators?"
   ]
  },
  {
   "cell_type": "code",
   "execution_count": null,
   "id": "720a11b5",
   "metadata": {},
   "outputs": [],
   "source": [
    "The three different types of Boolean operators are:-\n",
    "    AND--------->(True if both the values are true)-------- iNeuron and Data science\n",
    "    OR---------->(True if either of them are true)-------- iNeuron or Data science\n",
    "    NOT--------->(True if False)----- not Data analyst"
   ]
  },
  {
   "cell_type": "markdown",
   "id": "f99891f7",
   "metadata": {},
   "source": [
    "# 3. Make a list of each Boolean operator's truth tables (i.e. every possible combination of Boolean values for the operator and what it evaluate )."
   ]
  },
  {
   "cell_type": "code",
   "execution_count": null,
   "id": "16e12d0a",
   "metadata": {},
   "outputs": [],
   "source": [
    "let a and b be 2 variables.\n",
    "\n",
    " Truth table for AND operator:-\n",
    "             \n",
    "         a\t    AND\t     b\t     Output\n",
    "        True\tand     True\t  True\n",
    "        True\tand\t    False\t  False\n",
    "        False\tand\t    True\t  False\n",
    "        False\tand\t    False\t  False\n",
    "        \n",
    "  Truth table for OR operator:-\n",
    "  \n",
    "          a\t    OR\t     b\t     Output\n",
    "        True\tor      True\t  True\n",
    "        True\tor\t    False\t  True\n",
    "        False\tor\t    True\t  True\n",
    "        False\tor\t    False\t  False\n",
    "        \n",
    "   Truth table for OR operator:-\n",
    "           \n",
    "          NOT      a         OUTPUT\n",
    "          not     True        False\n",
    "          not     False       True\n",
    "          "
   ]
  },
  {
   "cell_type": "markdown",
   "id": "9c412560",
   "metadata": {},
   "source": [
    "# 4. What are the values of the following expressions?"
   ]
  },
  {
   "cell_type": "code",
   "execution_count": null,
   "id": "42e872fc",
   "metadata": {},
   "outputs": [],
   "source": [
    "(5 > 4) and (3 == 5)\n",
    "not (5 > 4)\n",
    "(5 > 4) or (3 == 5)\n",
    "not ((5 > 4) or (3 == 5))\n",
    "(True and True) and (True == False)\n",
    "(not False) or (not True)"
   ]
  },
  {
   "cell_type": "code",
   "execution_count": 1,
   "id": "b1f6728f",
   "metadata": {},
   "outputs": [
    {
     "data": {
      "text/plain": [
       "False"
      ]
     },
     "execution_count": 1,
     "metadata": {},
     "output_type": "execute_result"
    }
   ],
   "source": [
    "(5 > 4) and (3 == 5)  #gives output as FALSE"
   ]
  },
  {
   "cell_type": "code",
   "execution_count": 2,
   "id": "04b8a6c1",
   "metadata": {},
   "outputs": [
    {
     "data": {
      "text/plain": [
       "False"
      ]
     },
     "execution_count": 2,
     "metadata": {},
     "output_type": "execute_result"
    }
   ],
   "source": [
    "not (5 > 4)   #GIVES OUTPUT AS FALSE"
   ]
  },
  {
   "cell_type": "code",
   "execution_count": 3,
   "id": "fc252af8",
   "metadata": {},
   "outputs": [
    {
     "data": {
      "text/plain": [
       "True"
      ]
     },
     "execution_count": 3,
     "metadata": {},
     "output_type": "execute_result"
    }
   ],
   "source": [
    "(5 > 4) or (3 == 5) #GIVES OUTPUT AS TRUE"
   ]
  },
  {
   "cell_type": "code",
   "execution_count": 4,
   "id": "a6e88ec0",
   "metadata": {},
   "outputs": [
    {
     "data": {
      "text/plain": [
       "False"
      ]
     },
     "execution_count": 4,
     "metadata": {},
     "output_type": "execute_result"
    }
   ],
   "source": [
    "not ((5 > 4) or (3 == 5)) #GIVES FALSE AS OUTPUT"
   ]
  },
  {
   "cell_type": "code",
   "execution_count": 5,
   "id": "ef56203c",
   "metadata": {},
   "outputs": [
    {
     "data": {
      "text/plain": [
       "False"
      ]
     },
     "execution_count": 5,
     "metadata": {},
     "output_type": "execute_result"
    }
   ],
   "source": [
    "(True and True) and (True == False)   #GIVES FALSE AS OUTPUT"
   ]
  },
  {
   "cell_type": "code",
   "execution_count": 6,
   "id": "dc8ea518",
   "metadata": {},
   "outputs": [
    {
     "data": {
      "text/plain": [
       "True"
      ]
     },
     "execution_count": 6,
     "metadata": {},
     "output_type": "execute_result"
    }
   ],
   "source": [
    "(not False) or (not True)   #GIVES TRUE AS OUTPUT"
   ]
  },
  {
   "cell_type": "markdown",
   "id": "61476b88",
   "metadata": {},
   "source": [
    "# 5. What are the six comparison operators?"
   ]
  },
  {
   "cell_type": "code",
   "execution_count": null,
   "id": "e82a7586",
   "metadata": {},
   "outputs": [],
   "source": [
    "the six comparison operators are:-\n",
    "    (==) --- EQUAL TO\n",
    "    (!=) --- NOT EQUAL TO\n",
    "    (>)  --- GREATER THAN\n",
    "    (<)  --- LESS THAN\n",
    "    (>=) --- GREATER THAN OR EQUAL TO\n",
    "    (<=) --- LESS THAN OR EQUAL TO"
   ]
  },
  {
   "cell_type": "markdown",
   "id": "533f1e08",
   "metadata": {},
   "source": [
    "# 6. How do you tell the difference between the equal to and assignment operators?Describe a condition and when you would use one."
   ]
  },
  {
   "cell_type": "code",
   "execution_count": null,
   "id": "14b471b3",
   "metadata": {},
   "outputs": [],
   "source": [
    "(=) --- represents an ASSIGNMENT OPERATOR\n",
    "(==) --- represents an EQUAL TO OPERATOR\n",
    "\n",
    "(=) :-\n",
    "for example- \n",
    "    a = 5         #this assigns the variable on the left side of the operand as 5\n",
    "\n",
    "We use this where we are in need of assigning values to variables.\n",
    "\n",
    "\n",
    "(==):-\n",
    "for example:-\n",
    "    (4+5) == 8.5    #this checks if the value on the left side of the operand is equal to that of the rigth side\n",
    "\n",
    "We use this where we are in need for checking if two values are equal."
   ]
  },
  {
   "cell_type": "markdown",
   "id": "49dc807b",
   "metadata": {},
   "source": [
    "# 7. Identify the three blocks in this code:"
   ]
  },
  {
   "cell_type": "code",
   "execution_count": null,
   "id": "d42a3cc7",
   "metadata": {},
   "outputs": [],
   "source": [
    "spam = 0\n",
    "if spam == 10:\n",
    "    print('eggs')\n",
    "if spam > 5:\n",
    "    print('bacon')\n",
    "else:\n",
    "    print('ham')\n",
    "print('spam')\n",
    "print('spam')"
   ]
  },
  {
   "cell_type": "code",
   "execution_count": null,
   "id": "daeec14a",
   "metadata": {},
   "outputs": [],
   "source": [
    "The three blocks are:-\n",
    "\n",
    "    if spam == 10:\n",
    "        print('eggs')\n",
    "\n",
    "\n",
    "\n",
    "    if spam > 5:\n",
    "        print('bacon')\n",
    "\n",
    "\n",
    "\n",
    "        \n",
    "    else:\n",
    "        print('ham')\n",
    "        print('spam')\n",
    "    print('spam')   "
   ]
  },
  {
   "cell_type": "markdown",
   "id": "757a080a",
   "metadata": {},
   "source": [
    "# 8. Write code that prints Hello if 1 is stored in spam, prints Howdy if 2 is stored in spam, and prints Greetings! if anything else is stored in spam."
   ]
  },
  {
   "cell_type": "code",
   "execution_count": 5,
   "id": "26d0dd7f",
   "metadata": {},
   "outputs": [
    {
     "name": "stdout",
     "output_type": "stream",
     "text": [
      "enter something: 1\n",
      "hello\n"
     ]
    }
   ],
   "source": [
    "spam = input(\"enter something: \")\n",
    "\n",
    "if int(spam) == 1:\n",
    "    print(\"hello\")\n",
    "elif int(spam) == 2:\n",
    "    print(\"Howdy\")\n",
    "else:\n",
    "    print(\"Greetings!\")"
   ]
  },
  {
   "cell_type": "markdown",
   "id": "2c1b9f53",
   "metadata": {},
   "source": [
    "# 9.If your programme is stuck in an endless loop, what keys you’ll press?"
   ]
  },
  {
   "cell_type": "code",
   "execution_count": null,
   "id": "fefcc144",
   "metadata": {},
   "outputs": [],
   "source": [
    "If a programme is stuck in an endless loop, we’ll press Ctrl + C"
   ]
  },
  {
   "cell_type": "markdown",
   "id": "1b8fd921",
   "metadata": {},
   "source": [
    "# 10. How can you tell the difference between break and continue?"
   ]
  },
  {
   "cell_type": "code",
   "execution_count": null,
   "id": "92a42c06",
   "metadata": {},
   "outputs": [],
   "source": [
    "break -------> it terminates or exits or comes out of the loop when executed.\n",
    "\n",
    "continue ------> when executed , it takes the pointer or hands out the command back into the loop."
   ]
  },
  {
   "cell_type": "markdown",
   "id": "be701447",
   "metadata": {},
   "source": [
    "# 11. In a for loop, what is the difference between range(10), range(0, 10), and range(0, 10, 1)?"
   ]
  },
  {
   "cell_type": "code",
   "execution_count": 6,
   "id": "33363270",
   "metadata": {},
   "outputs": [
    {
     "name": "stdout",
     "output_type": "stream",
     "text": [
      "[0, 1, 2, 3, 4, 5, 6, 7, 8, 9] [0, 1, 2, 3, 4, 5, 6, 7, 8, 9] [0, 1, 2, 3, 4, 5, 6, 7, 8, 9]\n"
     ]
    }
   ],
   "source": [
    "a = list(range(10))\n",
    "b = list(range(0,10))\n",
    "c = list(range(0,10,1))\n",
    "print(a,b,c)\n",
    "\n",
    "# as we can observe from the result that all the three of them i.e{range(10),range(0,10) and range(0,10,1)} generate the same values.\n",
    "# the only difference between them is that of syntax\n",
    "range(x,y,z)    # 1st argument x is the start index and is by default taken as '0'.\n",
    "                # 2nd argument y is the stop index and is usually the default value taken as input\n",
    "                # 3rd argument z is the step size and by default it is '1'"
   ]
  },
  {
   "cell_type": "markdown",
   "id": "b481efe3",
   "metadata": {},
   "source": [
    "# 12. Write a short program that prints the numbers 1 to 10 using a for loop. Then write an equivalent program that prints the numbers 1 to 10 using a while loop."
   ]
  },
  {
   "cell_type": "code",
   "execution_count": 7,
   "id": "c7955616",
   "metadata": {},
   "outputs": [
    {
     "name": "stdout",
     "output_type": "stream",
     "text": [
      "1\n",
      "2\n",
      "3\n",
      "4\n",
      "5\n",
      "6\n",
      "7\n",
      "8\n",
      "9\n",
      "10\n"
     ]
    }
   ],
   "source": [
    "for i in range(1,11):\n",
    "    print(i)"
   ]
  },
  {
   "cell_type": "code",
   "execution_count": 8,
   "id": "f20051e9",
   "metadata": {},
   "outputs": [
    {
     "name": "stdout",
     "output_type": "stream",
     "text": [
      "1\n",
      "2\n",
      "3\n",
      "4\n",
      "5\n",
      "6\n",
      "7\n",
      "8\n",
      "9\n",
      "10\n"
     ]
    }
   ],
   "source": [
    "a=1\n",
    "while a <= 10:\n",
    "    print(a)\n",
    "    a+=1"
   ]
  },
  {
   "cell_type": "markdown",
   "id": "0acfa4de",
   "metadata": {},
   "source": [
    "# 13. If you had a function named bacon() inside a module named spam, how would you call it after importing spam?"
   ]
  },
  {
   "cell_type": "code",
   "execution_count": null,
   "id": "a6253234",
   "metadata": {},
   "outputs": [],
   "source": [
    "#first we import the module \n",
    "# import spam\n",
    "\n",
    "# to call  the function bacon() from the module spam:-\n",
    "\n",
    "spam.bacon()"
   ]
  }
 ],
 "metadata": {
  "kernelspec": {
   "display_name": "Python 3 (ipykernel)",
   "language": "python",
   "name": "python3"
  },
  "language_info": {
   "codemirror_mode": {
    "name": "ipython",
    "version": 3
   },
   "file_extension": ".py",
   "mimetype": "text/x-python",
   "name": "python",
   "nbconvert_exporter": "python",
   "pygments_lexer": "ipython3",
   "version": "3.9.12"
  }
 },
 "nbformat": 4,
 "nbformat_minor": 5
}
